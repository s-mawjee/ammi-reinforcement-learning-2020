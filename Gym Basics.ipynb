{
 "cells": [
  {
   "cell_type": "markdown",
   "metadata": {},
   "source": [
    "# Install and Import gym"
   ]
  },
  {
   "cell_type": "code",
   "execution_count": null,
   "metadata": {},
   "outputs": [],
   "source": [
    "!pip install gym"
   ]
  },
  {
   "cell_type": "code",
   "execution_count": null,
   "metadata": {},
   "outputs": [],
   "source": []
  },
  {
   "cell_type": "code",
   "execution_count": 5,
   "metadata": {},
   "outputs": [],
   "source": [
    "import gym"
   ]
  },
  {
   "cell_type": "code",
   "execution_count": 2,
   "metadata": {},
   "outputs": [],
   "source": [
    "from environments.gridworld import GridworldEnv"
   ]
  },
  {
   "cell_type": "markdown",
   "metadata": {},
   "source": [
    "# Create 4 by 4 Gridworld Env"
   ]
  },
  {
   "cell_type": "code",
   "execution_count": 17,
   "metadata": {},
   "outputs": [
    {
     "name": "stdout",
     "output_type": "stream",
     "text": [
      "T  o  o  o\n",
      "o  o  o  x\n",
      "o  o  o  o\n",
      "o  o  o  T\n"
     ]
    }
   ],
   "source": [
    "env = GridworldEnv(shape=[4, 4], terminal_states=[0,15], terminal_reward=0, step_reward=-1)\n",
    "_ = env.reset()\n",
    "env.render()"
   ]
  },
  {
   "cell_type": "markdown",
   "metadata": {},
   "source": [
    "# MDP of Env"
   ]
  },
  {
   "cell_type": "markdown",
   "metadata": {},
   "source": [
    "$M=(S, A, P, r, \\gamma) $"
   ]
  },
  {
   "cell_type": "code",
   "execution_count": 6,
   "metadata": {},
   "outputs": [
    {
     "name": "stdout",
     "output_type": "stream",
     "text": [
      "State space\n",
      "    Discrete(16)\n",
      "Number of states\n",
      "    16\n"
     ]
    }
   ],
   "source": [
    "print('State space')\n",
    "print('   ',env.observation_space)\n",
    "print('Number of states')\n",
    "print('   ',env.observation_space.n)\n"
   ]
  },
  {
   "cell_type": "code",
   "execution_count": 14,
   "metadata": {},
   "outputs": [
    {
     "name": "stdout",
     "output_type": "stream",
     "text": [
      "Action space\n",
      "    Discrete(4)\n",
      "Number of actions\n",
      "    4\n"
     ]
    }
   ],
   "source": [
    "print('Action space')\n",
    "print('   ',env.action_space)\n",
    "print('Number of actions')\n",
    "print('   ',env.action_space.n)"
   ]
  },
  {
   "cell_type": "code",
   "execution_count": 16,
   "metadata": {},
   "outputs": [
    {
     "name": "stdout",
     "output_type": "stream",
     "text": [
      "Transition Probability\n",
      "{0: [(1.0, 0, 0, True)], 1: [(1.0, 0, 0, True)], 2: [(1.0, 0, 0, True)], 3: [(1.0, 0, 0, True)]}\n"
     ]
    }
   ],
   "source": [
    "print('Transition Probability')\n",
    "print(env.P[0])"
   ]
  },
  {
   "cell_type": "markdown",
   "metadata": {},
   "source": [
    "# Act in Env"
   ]
  },
  {
   "cell_type": "code",
   "execution_count": 12,
   "metadata": {},
   "outputs": [
    {
     "name": "stdout",
     "output_type": "stream",
     "text": [
      "Current state: 7 \n",
      "\n",
      "T  o  o  o\n",
      "o  o  o  x\n",
      "o  o  o  o\n",
      "o  o  o  T\n"
     ]
    }
   ],
   "source": [
    "state = env.reset()\n",
    "print('Current state:', state,'\\n')\n",
    "env.render()"
   ]
  },
  {
   "cell_type": "code",
   "execution_count": 13,
   "metadata": {},
   "outputs": [
    {
     "name": "stdout",
     "output_type": "stream",
     "text": [
      "Next state: 3 \n",
      "\n",
      "T  o  o  x\n",
      "o  o  o  o\n",
      "o  o  o  o\n",
      "o  o  o  T\n",
      "\n",
      "Reward= -1\n",
      "Done? False\n"
     ]
    }
   ],
   "source": [
    "next_state, reward, done, _ = env.step(0)\n",
    "print('Next state:', next_state,'\\n')\n",
    "env.render()\n",
    "print()\n",
    "print('Reward=',reward)\n",
    "print('Done?',done)"
   ]
  },
  {
   "cell_type": "code",
   "execution_count": null,
   "metadata": {},
   "outputs": [],
   "source": []
  }
 ],
 "metadata": {
  "kernelspec": {
   "display_name": "Python 3",
   "language": "python",
   "name": "python3"
  },
  "language_info": {
   "codemirror_mode": {
    "name": "ipython",
    "version": 3
   },
   "file_extension": ".py",
   "mimetype": "text/x-python",
   "name": "python",
   "nbconvert_exporter": "python",
   "pygments_lexer": "ipython3",
   "version": "3.6.8"
  }
 },
 "nbformat": 4,
 "nbformat_minor": 2
}
